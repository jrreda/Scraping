{
 "cells": [
  {
   "cell_type": "markdown",
   "id": "0c0e614d-4a19-43ca-a84a-400c0d0b3ed2",
   "metadata": {},
   "source": [
    "# 1. Authenticate to Twitter"
   ]
  },
  {
   "cell_type": "code",
   "execution_count": 1,
   "id": "9e0533c1-a4c6-46ce-b0cb-22accf4a8439",
   "metadata": {},
   "outputs": [],
   "source": [
    "# import modules\n",
    "import pandas as pd\n",
    "import tweepy\n",
    "from credentials import *"
   ]
  },
  {
   "cell_type": "code",
   "execution_count": 3,
   "id": "6241f5fa-2b3c-4884-9fe3-b89b9bcb0d0b",
   "metadata": {},
   "outputs": [],
   "source": [
    "# Authenticate\n",
    "auth = tweepy.OAuthHandler(consumer_key, consumer_secret)\n",
    "\n",
    "# Set Tokens\n",
    "auth.set_access_token(access_token, access_token_secret)\n",
    "\n",
    "# Instantiate API\n",
    "api = tweepy.API(auth, wait_on_rate_limit=True)"
   ]
  },
  {
   "cell_type": "markdown",
   "id": "0f35b2b7-a339-44a8-acea-39e5bbbaa9e4",
   "metadata": {},
   "source": [
    "# 2. Get Tweets"
   ]
  },
  {
   "cell_type": "code",
   "execution_count": 7,
   "id": "d40e1f84-be56-4ae7-967c-52ee71a266e7",
   "metadata": {},
   "outputs": [],
   "source": [
    "hashtag = \"#AvatarTheWayOfWater\"\n",
    "date_since = '2022-12-15' # December 15, 2022\n",
    "numtweet = 100"
   ]
  },
  {
   "cell_type": "code",
   "execution_count": 9,
   "id": "dc2a9ceb-d16c-4d30-a0ae-4ea81e627814",
   "metadata": {},
   "outputs": [],
   "source": [
    "# We are using .Cursor() to search\n",
    "# through twitter for the required tweets.\n",
    "# The number of tweets can be\n",
    "# restricted using .items(number of tweets)\n",
    "query = tweepy.Cursor(api.search_tweets, hashtag, lang='en', result_type=\"recent\",\n",
    "                      since_id=date_since, tweet_mode='extended', ).items(numtweet)"
   ]
  },
  {
   "cell_type": "code",
   "execution_count": 12,
   "id": "7dda2a37-9810-4d0a-b629-ef06ee799d8e",
   "metadata": {
    "tags": []
   },
   "outputs": [],
   "source": [
    "# .Cursor() returns an iterable object. Each item in\n",
    "# the iterator has various attributes\n",
    "# that you can access to\n",
    "# get information about each tweet\n",
    "list_tweets = [tweet for tweet in query]"
   ]
  },
  {
   "cell_type": "code",
   "execution_count": 53,
   "id": "4c1e59b7-250f-4a74-8d0d-a3e8dc09afaf",
   "metadata": {
    "tags": []
   },
   "outputs": [],
   "source": [
    "# list_tweets[0]"
   ]
  },
  {
   "cell_type": "code",
   "execution_count": 35,
   "id": "fddea78f-c69f-466f-af65-5549ac651fb4",
   "metadata": {},
   "outputs": [
    {
     "data": {
      "text/plain": [
       "{'hashtags': [{'text': 'AvatarTheWayOfWater', 'indices': [101, 121]}],\n",
       " 'symbols': [],\n",
       " 'user_mentions': [{'screen_name': 'victorkenobi',\n",
       "   'name': 'victor de la torre',\n",
       "   'id': 59657977,\n",
       "   'id_str': '59657977',\n",
       "   'indices': [3, 16]}],\n",
       " 'urls': []}"
      ]
     },
     "execution_count": 35,
     "metadata": {},
     "output_type": "execute_result"
    }
   ],
   "source": [
    "list_tweets[0].entities"
   ]
  },
  {
   "cell_type": "code",
   "execution_count": 38,
   "id": "44764fb1-caa4-4e30-a8e2-527c510cee8d",
   "metadata": {},
   "outputs": [
    {
     "data": {
      "text/plain": [
       "False"
      ]
     },
     "execution_count": 38,
     "metadata": {},
     "output_type": "execute_result"
    }
   ],
   "source": [
    "list_tweets[0].is_quote_status"
   ]
  },
  {
   "cell_type": "code",
   "execution_count": 39,
   "id": "dfb532d2-d91f-4fcc-98bd-83a35859c825",
   "metadata": {},
   "outputs": [
    {
     "data": {
      "text/plain": [
       "'Twitter for Android'"
      ]
     },
     "execution_count": 39,
     "metadata": {},
     "output_type": "execute_result"
    }
   ],
   "source": [
    "list_tweets[0].source"
   ]
  },
  {
   "cell_type": "code",
   "execution_count": 40,
   "id": "e2c1c551-768c-4894-8b74-b4c4e4337524",
   "metadata": {},
   "outputs": [
    {
     "data": {
      "text/plain": [
       "False"
      ]
     },
     "execution_count": 40,
     "metadata": {},
     "output_type": "execute_result"
    }
   ],
   "source": [
    "list_tweets[0].user.verified"
   ]
  },
  {
   "cell_type": "code",
   "execution_count": 48,
   "id": "b1986b59-7971-4d08-8358-17565e1185d6",
   "metadata": {},
   "outputs": [
    {
     "data": {
      "text/plain": [
       "'Avatar haters when they see the film pass the $2B mark at the global box office. \\n\\n#AvatarTheWayOfWater https://t.co/dvIkHV9C2d'"
      ]
     },
     "execution_count": 48,
     "metadata": {},
     "output_type": "execute_result"
    }
   ],
   "source": [
    "list_tweets[0].retweeted_status.full_text"
   ]
  },
  {
   "cell_type": "code",
   "execution_count": 49,
   "id": "d57b3b17-76b6-4fe8-adbc-ca0d4e8b8dc0",
   "metadata": {},
   "outputs": [
    {
     "data": {
      "text/plain": [
       "'RT @victorkenobi: Avatar haters when they see the film pass the $2B mark at the global box office. \\n\\n#AvatarTheWayOfWater https://t.co/dvIk…'"
      ]
     },
     "execution_count": 49,
     "metadata": {},
     "output_type": "execute_result"
    }
   ],
   "source": [
    "list_tweets[0].full_text"
   ]
  },
  {
   "cell_type": "code",
   "execution_count": 18,
   "id": "18717e8f-f231-4501-8ad5-3aa7b3e644b4",
   "metadata": {},
   "outputs": [
    {
     "data": {
      "text/plain": [
       "'Down under. 🇦🇺🖖❤️'"
      ]
     },
     "execution_count": 18,
     "metadata": {},
     "output_type": "execute_result"
    }
   ],
   "source": [
    "list_tweets[0].user.location"
   ]
  },
  {
   "cell_type": "code",
   "execution_count": 21,
   "id": "f2ce0f87-055f-432e-a44d-1ffe30834126",
   "metadata": {},
   "outputs": [
    {
     "data": {
      "text/plain": [
       "397"
      ]
     },
     "execution_count": 22,
     "metadata": {},
     "output_type": "execute_result"
    }
   ],
   "source": [
    "list_tweets[0].user.followers_count"
   ]
  },
  {
   "cell_type": "code",
   "execution_count": 23,
   "id": "629e6572-6fc4-449d-8304-a2e5ba567a5c",
   "metadata": {},
   "outputs": [
    {
     "data": {
      "text/plain": [
       "'No special skills, a Dad, a working class man  kinda ordinary really!'"
      ]
     },
     "execution_count": 23,
     "metadata": {},
     "output_type": "execute_result"
    }
   ],
   "source": [
    "list_tweets[0].user.description"
   ]
  },
  {
   "cell_type": "code",
   "execution_count": 19,
   "id": "a3e3bcf2-6499-4f74-a395-9b55f57ea9d7",
   "metadata": {},
   "outputs": [
    {
     "data": {
      "text/plain": [
       "184"
      ]
     },
     "execution_count": 19,
     "metadata": {},
     "output_type": "execute_result"
    }
   ],
   "source": [
    "list_tweets[0].retweet_count"
   ]
  },
  {
   "cell_type": "code",
   "execution_count": 70,
   "id": "78b71e8d-b711-4183-8e7f-302448268409",
   "metadata": {},
   "outputs": [
    {
     "data": {
      "text/plain": [
       "[{'text': 'AvatarTheWayOfWater', 'indices': [101, 121]}]"
      ]
     },
     "execution_count": 70,
     "metadata": {},
     "output_type": "execute_result"
    }
   ],
   "source": [
    "list_tweets[0].entities['hashtags']"
   ]
  },
  {
   "cell_type": "markdown",
   "id": "23d5fc63-1bd6-4c3a-8706-2b69fe846b96",
   "metadata": {},
   "source": [
    "## DataFrame"
   ]
  },
  {
   "cell_type": "code",
   "execution_count": 85,
   "id": "de08cdbc-81a7-4d4a-a424-78625a2dd5d4",
   "metadata": {},
   "outputs": [],
   "source": [
    "# Creating DataFrame using pandas\n",
    "df = pd.DataFrame(columns=['username',\n",
    "                           'bio',\n",
    "                           'location',\n",
    "                           'following',\n",
    "                           'followers',\n",
    "                           'totaltweets',\n",
    "                           'retweetcount',\n",
    "                           'qouted',\n",
    "                           'verified',\n",
    "                           'source',\n",
    "                           'text',\n",
    "                           'hashtags'])"
   ]
  },
  {
   "cell_type": "code",
   "execution_count": 86,
   "id": "af6bc1d9-54dc-40f7-b87e-01972704477c",
   "metadata": {},
   "outputs": [],
   "source": [
    "for tweet in list_tweets:\n",
    "    username = tweet.user.screen_name\n",
    "    description = tweet.user.description\n",
    "    location = tweet.user.location\n",
    "    following = tweet.user.friends_count\n",
    "    followers = tweet.user.followers_count\n",
    "    totaltweets = tweet.user.statuses_count\n",
    "    retweetcount = tweet.retweet_count\n",
    "    qouted = tweet.is_quote_status\n",
    "    verified = tweet.user.verified\n",
    "    source = tweet.source\n",
    "    hashtags = tweet.entities['hashtags']\n",
    "\n",
    "    # Retweets can be distinguished by\n",
    "    # a retweeted_status attribute,\n",
    "    # in case it is an invalid reference,\n",
    "    # except block will be executed\n",
    "    try:\n",
    "            text = tweet.retweeted_status.full_text\n",
    "    except AttributeError:\n",
    "            text = tweet.full_text\n",
    "            \n",
    "    # Hashtags\n",
    "    hashtext = list()\n",
    "    for h in range(len(hashtags)):\n",
    "        hashtext.append(hashtags[h]['text'])\n",
    "        \n",
    "    # Here we are appending all the\n",
    "    # extracted information in the DataFrame\n",
    "    ith_tweet = [username, description,\n",
    "                 location, following,\n",
    "                 followers, totaltweets,\n",
    "                 retweetcount, qouted, verified,\n",
    "                 source, text, hashtext]\n",
    "    df.loc[len(df)] = ith_tweet"
   ]
  },
  {
   "cell_type": "code",
   "execution_count": 87,
   "id": "8675639b-41b7-47b1-a8bf-7331b574d71a",
   "metadata": {},
   "outputs": [
    {
     "data": {
      "text/html": [
       "<div>\n",
       "<style scoped>\n",
       "    .dataframe tbody tr th:only-of-type {\n",
       "        vertical-align: middle;\n",
       "    }\n",
       "\n",
       "    .dataframe tbody tr th {\n",
       "        vertical-align: top;\n",
       "    }\n",
       "\n",
       "    .dataframe thead th {\n",
       "        text-align: right;\n",
       "    }\n",
       "</style>\n",
       "<table border=\"1\" class=\"dataframe\">\n",
       "  <thead>\n",
       "    <tr style=\"text-align: right;\">\n",
       "      <th></th>\n",
       "      <th>username</th>\n",
       "      <th>bio</th>\n",
       "      <th>location</th>\n",
       "      <th>following</th>\n",
       "      <th>followers</th>\n",
       "      <th>totaltweets</th>\n",
       "      <th>retweetcount</th>\n",
       "      <th>qouted</th>\n",
       "      <th>verified</th>\n",
       "      <th>source</th>\n",
       "      <th>text</th>\n",
       "      <th>hashtags</th>\n",
       "    </tr>\n",
       "  </thead>\n",
       "  <tbody>\n",
       "    <tr>\n",
       "      <th>0</th>\n",
       "      <td>RossWal55386387</td>\n",
       "      <td>No special skills, a Dad, a working class man ...</td>\n",
       "      <td>Down under. 🇦🇺🖖❤️</td>\n",
       "      <td>397</td>\n",
       "      <td>146</td>\n",
       "      <td>8918</td>\n",
       "      <td>184</td>\n",
       "      <td>False</td>\n",
       "      <td>False</td>\n",
       "      <td>Twitter for Android</td>\n",
       "      <td>Avatar haters when they see the film pass the ...</td>\n",
       "      <td>[AvatarTheWayOfWater]</td>\n",
       "    </tr>\n",
       "    <tr>\n",
       "      <th>1</th>\n",
       "      <td>JimCook26695806</td>\n",
       "      <td># I  RECOGNIZE AS A 🦍\\n#APESTRONGTOGETHER🦍\\n#A...</td>\n",
       "      <td></td>\n",
       "      <td>2787</td>\n",
       "      <td>3019</td>\n",
       "      <td>10127</td>\n",
       "      <td>9</td>\n",
       "      <td>False</td>\n",
       "      <td>False</td>\n",
       "      <td>Twitter for Android</td>\n",
       "      <td>#atAmc To see #AvatarTheWayOfWater The hottest...</td>\n",
       "      <td>[atAmc, AvatarTheWayOfWater]</td>\n",
       "    </tr>\n",
       "    <tr>\n",
       "      <th>2</th>\n",
       "      <td>InoxSrinagar</td>\n",
       "      <td>Kashmir's first multiplex now in Srinagar at S...</td>\n",
       "      <td>Shivpora Srinagar J&amp;K</td>\n",
       "      <td>20</td>\n",
       "      <td>46</td>\n",
       "      <td>304</td>\n",
       "      <td>0</td>\n",
       "      <td>False</td>\n",
       "      <td>False</td>\n",
       "      <td>Twitter Web App</td>\n",
       "      <td>Movies at @inoxsrinagar from 02 Jan to 05 Jan ...</td>\n",
       "      <td>[avatarthewayofwater, drishyam2, cirkus, hit]</td>\n",
       "    </tr>\n",
       "    <tr>\n",
       "      <th>3</th>\n",
       "      <td>AhsanAli0018</td>\n",
       "      <td>life is beautiful (imran khan)(kholi) (Prabhas...</td>\n",
       "      <td></td>\n",
       "      <td>2619</td>\n",
       "      <td>715</td>\n",
       "      <td>120728</td>\n",
       "      <td>11</td>\n",
       "      <td>False</td>\n",
       "      <td>False</td>\n",
       "      <td>Twitter for Android</td>\n",
       "      <td>#CinetrakFlash: Top 5 Movies In India for 01 J...</td>\n",
       "      <td>[CinetrakFlash, AvatarTheWayOfWater, Dhamaka]</td>\n",
       "    </tr>\n",
       "    <tr>\n",
       "      <th>4</th>\n",
       "      <td>PspkUstad</td>\n",
       "      <td></td>\n",
       "      <td></td>\n",
       "      <td>981</td>\n",
       "      <td>520</td>\n",
       "      <td>72389</td>\n",
       "      <td>613</td>\n",
       "      <td>False</td>\n",
       "      <td>False</td>\n",
       "      <td>Twitter for Android</td>\n",
       "      <td>#CinetrakFlash: Top 5 Movies In India for 31 D...</td>\n",
       "      <td>[CinetrakFlash, AvatarTheWayOfWater, Kushi, Ved]</td>\n",
       "    </tr>\n",
       "    <tr>\n",
       "      <th>...</th>\n",
       "      <td>...</td>\n",
       "      <td>...</td>\n",
       "      <td>...</td>\n",
       "      <td>...</td>\n",
       "      <td>...</td>\n",
       "      <td>...</td>\n",
       "      <td>...</td>\n",
       "      <td>...</td>\n",
       "      <td>...</td>\n",
       "      <td>...</td>\n",
       "      <td>...</td>\n",
       "      <td>...</td>\n",
       "    </tr>\n",
       "    <tr>\n",
       "      <th>94</th>\n",
       "      <td>TrollPSPKHater</td>\n",
       "      <td>@PawanKalyan And @JanaSenaParty\\n\\nMovies | Po...</td>\n",
       "      <td></td>\n",
       "      <td>1909</td>\n",
       "      <td>5176</td>\n",
       "      <td>10338</td>\n",
       "      <td>613</td>\n",
       "      <td>False</td>\n",
       "      <td>False</td>\n",
       "      <td>Twitter for Android</td>\n",
       "      <td>#CinetrakFlash: Top 5 Movies In India for 31 D...</td>\n",
       "      <td>[CinetrakFlash, AvatarTheWayOfWater, Kushi, Ved]</td>\n",
       "    </tr>\n",
       "    <tr>\n",
       "      <th>95</th>\n",
       "      <td>Jayaram12320584</td>\n",
       "      <td></td>\n",
       "      <td></td>\n",
       "      <td>11</td>\n",
       "      <td>21</td>\n",
       "      <td>6414</td>\n",
       "      <td>18</td>\n",
       "      <td>False</td>\n",
       "      <td>False</td>\n",
       "      <td>Twitter for Android</td>\n",
       "      <td>01-01-'23, vijayawada single screens Matinee s...</td>\n",
       "      <td>[Dhamaka, AvatarTheWayOfWater]</td>\n",
       "    </tr>\n",
       "    <tr>\n",
       "      <th>96</th>\n",
       "      <td>Brianjr_42</td>\n",
       "      <td></td>\n",
       "      <td>New York, USA</td>\n",
       "      <td>704</td>\n",
       "      <td>602</td>\n",
       "      <td>177093</td>\n",
       "      <td>1</td>\n",
       "      <td>False</td>\n",
       "      <td>False</td>\n",
       "      <td>Twitter for iPhone</td>\n",
       "      <td>Will Avatar 2 be able to break the record of A...</td>\n",
       "      <td>[Avatar2, AvatarTheWayofWater]</td>\n",
       "    </tr>\n",
       "    <tr>\n",
       "      <th>97</th>\n",
       "      <td>DayamaniSadey</td>\n",
       "      <td>Here Only for @Raviteja_offl 💥 @PrabhasRaju</td>\n",
       "      <td></td>\n",
       "      <td>43</td>\n",
       "      <td>12</td>\n",
       "      <td>579</td>\n",
       "      <td>18</td>\n",
       "      <td>False</td>\n",
       "      <td>False</td>\n",
       "      <td>Twitter for Android</td>\n",
       "      <td>01-01-'23, vijayawada single screens Matinee s...</td>\n",
       "      <td>[Dhamaka, AvatarTheWayOfWater]</td>\n",
       "    </tr>\n",
       "    <tr>\n",
       "      <th>98</th>\n",
       "      <td>Immanuel_iiimmu</td>\n",
       "      <td>Color is Not important.\\nWhen our heart shines 💥💥</td>\n",
       "      <td></td>\n",
       "      <td>60</td>\n",
       "      <td>277</td>\n",
       "      <td>16757</td>\n",
       "      <td>401</td>\n",
       "      <td>False</td>\n",
       "      <td>False</td>\n",
       "      <td>Twitter for Android</td>\n",
       "      <td>#CinetrakFlash: Top 3 Movies In APTS for 31 De...</td>\n",
       "      <td>[CinetrakFlash, Kushi, Dhamaka, AvatarTheWayOf...</td>\n",
       "    </tr>\n",
       "  </tbody>\n",
       "</table>\n",
       "<p>99 rows × 12 columns</p>\n",
       "</div>"
      ],
      "text/plain": [
       "           username                                                bio  \\\n",
       "0   RossWal55386387  No special skills, a Dad, a working class man ...   \n",
       "1   JimCook26695806  # I  RECOGNIZE AS A 🦍\\n#APESTRONGTOGETHER🦍\\n#A...   \n",
       "2      InoxSrinagar  Kashmir's first multiplex now in Srinagar at S...   \n",
       "3      AhsanAli0018  life is beautiful (imran khan)(kholi) (Prabhas...   \n",
       "4         PspkUstad                                                      \n",
       "..              ...                                                ...   \n",
       "94   TrollPSPKHater  @PawanKalyan And @JanaSenaParty\\n\\nMovies | Po...   \n",
       "95  Jayaram12320584                                                      \n",
       "96       Brianjr_42                                                      \n",
       "97    DayamaniSadey        Here Only for @Raviteja_offl 💥 @PrabhasRaju   \n",
       "98  Immanuel_iiimmu  Color is Not important.\\nWhen our heart shines 💥💥   \n",
       "\n",
       "                 location  following  followers  totaltweets  retweetcount  \\\n",
       "0       Down under. 🇦🇺🖖❤️        397        146         8918           184   \n",
       "1                               2787       3019        10127             9   \n",
       "2   Shivpora Srinagar J&K         20         46          304             0   \n",
       "3                               2619        715       120728            11   \n",
       "4                                981        520        72389           613   \n",
       "..                    ...        ...        ...          ...           ...   \n",
       "94                              1909       5176        10338           613   \n",
       "95                                11         21         6414            18   \n",
       "96          New York, USA        704        602       177093             1   \n",
       "97                                43         12          579            18   \n",
       "98                                60        277        16757           401   \n",
       "\n",
       "    qouted  verified               source  \\\n",
       "0    False     False  Twitter for Android   \n",
       "1    False     False  Twitter for Android   \n",
       "2    False     False      Twitter Web App   \n",
       "3    False     False  Twitter for Android   \n",
       "4    False     False  Twitter for Android   \n",
       "..     ...       ...                  ...   \n",
       "94   False     False  Twitter for Android   \n",
       "95   False     False  Twitter for Android   \n",
       "96   False     False   Twitter for iPhone   \n",
       "97   False     False  Twitter for Android   \n",
       "98   False     False  Twitter for Android   \n",
       "\n",
       "                                                 text  \\\n",
       "0   Avatar haters when they see the film pass the ...   \n",
       "1   #atAmc To see #AvatarTheWayOfWater The hottest...   \n",
       "2   Movies at @inoxsrinagar from 02 Jan to 05 Jan ...   \n",
       "3   #CinetrakFlash: Top 5 Movies In India for 01 J...   \n",
       "4   #CinetrakFlash: Top 5 Movies In India for 31 D...   \n",
       "..                                                ...   \n",
       "94  #CinetrakFlash: Top 5 Movies In India for 31 D...   \n",
       "95  01-01-'23, vijayawada single screens Matinee s...   \n",
       "96  Will Avatar 2 be able to break the record of A...   \n",
       "97  01-01-'23, vijayawada single screens Matinee s...   \n",
       "98  #CinetrakFlash: Top 3 Movies In APTS for 31 De...   \n",
       "\n",
       "                                             hashtags  \n",
       "0                               [AvatarTheWayOfWater]  \n",
       "1                        [atAmc, AvatarTheWayOfWater]  \n",
       "2       [avatarthewayofwater, drishyam2, cirkus, hit]  \n",
       "3       [CinetrakFlash, AvatarTheWayOfWater, Dhamaka]  \n",
       "4    [CinetrakFlash, AvatarTheWayOfWater, Kushi, Ved]  \n",
       "..                                                ...  \n",
       "94   [CinetrakFlash, AvatarTheWayOfWater, Kushi, Ved]  \n",
       "95                     [Dhamaka, AvatarTheWayOfWater]  \n",
       "96                     [Avatar2, AvatarTheWayofWater]  \n",
       "97                     [Dhamaka, AvatarTheWayOfWater]  \n",
       "98  [CinetrakFlash, Kushi, Dhamaka, AvatarTheWayOf...  \n",
       "\n",
       "[99 rows x 12 columns]"
      ]
     },
     "execution_count": 87,
     "metadata": {},
     "output_type": "execute_result"
    }
   ],
   "source": [
    "df"
   ]
  },
  {
   "cell_type": "markdown",
   "id": "ccf1da40-d49a-45e3-a85b-ae74ec6c7a5d",
   "metadata": {},
   "source": [
    "# 3. Preprocess"
   ]
  },
  {
   "cell_type": "code",
   "execution_count": null,
   "id": "d4bbb613-70e6-4e20-bdd7-fd49ab2397a1",
   "metadata": {},
   "outputs": [],
   "source": []
  },
  {
   "cell_type": "markdown",
   "id": "696d742b-1551-4ad5-8b9d-d2d8a4921bd7",
   "metadata": {},
   "source": [
    "# 4. Calculate Sentiment with Roberta Pretrained Model"
   ]
  },
  {
   "cell_type": "code",
   "execution_count": 91,
   "id": "5cacd327-9cdb-44b1-ad02-90bbc7def3f1",
   "metadata": {},
   "outputs": [
    {
     "name": "stdout",
     "output_type": "stream",
     "text": [
      "Requirement already satisfied: transformers in c:\\users\\mahmo\\anaconda3\\lib\\site-packages (4.25.1)\n",
      "Requirement already satisfied: requests in c:\\users\\mahmo\\anaconda3\\lib\\site-packages (from transformers) (2.27.1)\n",
      "Requirement already satisfied: numpy>=1.17 in c:\\users\\mahmo\\anaconda3\\lib\\site-packages (from transformers) (1.23.5)\n",
      "Requirement already satisfied: pyyaml>=5.1 in c:\\users\\mahmo\\anaconda3\\lib\\site-packages (from transformers) (6.0)\n",
      "Requirement already satisfied: filelock in c:\\users\\mahmo\\anaconda3\\lib\\site-packages (from transformers) (3.6.0)\n",
      "Requirement already satisfied: tqdm>=4.27 in c:\\users\\mahmo\\anaconda3\\lib\\site-packages (from transformers) (4.64.0)\n",
      "Requirement already satisfied: tokenizers!=0.11.3,<0.14,>=0.11.1 in c:\\users\\mahmo\\anaconda3\\lib\\site-packages (from transformers) (0.13.2)\n",
      "Requirement already satisfied: packaging>=20.0 in c:\\users\\mahmo\\anaconda3\\lib\\site-packages (from transformers) (21.3)\n",
      "Requirement already satisfied: regex!=2019.12.17 in c:\\users\\mahmo\\anaconda3\\lib\\site-packages (from transformers) (2022.3.15)\n",
      "Requirement already satisfied: huggingface-hub<1.0,>=0.10.0 in c:\\users\\mahmo\\anaconda3\\lib\\site-packages (from transformers) (0.11.1)\n",
      "Requirement already satisfied: typing-extensions>=3.7.4.3 in c:\\users\\mahmo\\anaconda3\\lib\\site-packages (from huggingface-hub<1.0,>=0.10.0->transformers) (4.2.0)\n",
      "Requirement already satisfied: pyparsing!=3.0.5,>=2.0.2 in c:\\users\\mahmo\\anaconda3\\lib\\site-packages (from packaging>=20.0->transformers) (3.0.4)\n",
      "Requirement already satisfied: colorama in c:\\users\\mahmo\\anaconda3\\lib\\site-packages (from tqdm>=4.27->transformers) (0.4.4)\n",
      "Requirement already satisfied: idna<4,>=2.5 in c:\\users\\mahmo\\anaconda3\\lib\\site-packages (from requests->transformers) (3.3)\n",
      "Requirement already satisfied: certifi>=2017.4.17 in c:\\users\\mahmo\\anaconda3\\lib\\site-packages (from requests->transformers) (2022.6.15)\n",
      "Requirement already satisfied: urllib3<1.27,>=1.21.1 in c:\\users\\mahmo\\anaconda3\\lib\\site-packages (from requests->transformers) (1.26.9)\n",
      "Requirement already satisfied: charset-normalizer~=2.0.0 in c:\\users\\mahmo\\anaconda3\\lib\\site-packages (from requests->transformers) (2.0.4)\n"
     ]
    },
    {
     "name": "stderr",
     "output_type": "stream",
     "text": [
      "WARNING: Ignoring invalid distribution -illow (c:\\users\\mahmo\\anaconda3\\lib\\site-packages)\n",
      "WARNING: Ignoring invalid distribution -illow (c:\\users\\mahmo\\anaconda3\\lib\\site-packages)\n",
      "WARNING: Ignoring invalid distribution -illow (c:\\users\\mahmo\\anaconda3\\lib\\site-packages)\n",
      "WARNING: Ignoring invalid distribution -illow (c:\\users\\mahmo\\anaconda3\\lib\\site-packages)\n",
      "WARNING: Ignoring invalid distribution -illow (c:\\users\\mahmo\\anaconda3\\lib\\site-packages)\n",
      "WARNING: Ignoring invalid distribution -illow (c:\\users\\mahmo\\anaconda3\\lib\\site-packages)\n"
     ]
    }
   ],
   "source": [
    "!pip install transformers -U "
   ]
  },
  {
   "cell_type": "code",
   "execution_count": 1,
   "id": "e136077a-ec48-42c3-9320-c37283c84286",
   "metadata": {},
   "outputs": [
    {
     "ename": "ImportError",
     "evalue": "tqdm>=4.27 is required for a normal functioning of this module, but found tqdm==4.18.0.\nTry: pip install transformers -U or pip install -e '.[dev]' if you're working with git main",
     "output_type": "error",
     "traceback": [
      "\u001b[1;31m---------------------------------------------------------------------------\u001b[0m",
      "\u001b[1;31mImportError\u001b[0m                               Traceback (most recent call last)",
      "Input \u001b[1;32mIn [1]\u001b[0m, in \u001b[0;36m<cell line: 1>\u001b[1;34m()\u001b[0m\n\u001b[1;32m----> 1\u001b[0m \u001b[38;5;28;01mfrom\u001b[39;00m \u001b[38;5;21;01mtransformers\u001b[39;00m \u001b[38;5;28;01mimport\u001b[39;00m AutoTokenizer\n\u001b[0;32m      2\u001b[0m \u001b[38;5;28;01mfrom\u001b[39;00m \u001b[38;5;21;01mtransformers\u001b[39;00m \u001b[38;5;28;01mimport\u001b[39;00m AutoModelForSequenceClassification\n\u001b[0;32m      3\u001b[0m \u001b[38;5;28;01mfrom\u001b[39;00m \u001b[38;5;21;01mscipy\u001b[39;00m\u001b[38;5;21;01m.\u001b[39;00m\u001b[38;5;21;01mspecial\u001b[39;00m \u001b[38;5;28;01mimport\u001b[39;00m softmax\n",
      "File \u001b[1;32m~\\anaconda3\\lib\\site-packages\\transformers\\__init__.py:30\u001b[0m, in \u001b[0;36m<module>\u001b[1;34m\u001b[0m\n\u001b[0;32m     27\u001b[0m \u001b[38;5;28;01mfrom\u001b[39;00m \u001b[38;5;21;01mtyping\u001b[39;00m \u001b[38;5;28;01mimport\u001b[39;00m TYPE_CHECKING\n\u001b[0;32m     29\u001b[0m \u001b[38;5;66;03m# Check the dependencies satisfy the minimal versions required.\u001b[39;00m\n\u001b[1;32m---> 30\u001b[0m \u001b[38;5;28;01mfrom\u001b[39;00m \u001b[38;5;21;01m.\u001b[39;00m \u001b[38;5;28;01mimport\u001b[39;00m dependency_versions_check\n\u001b[0;32m     31\u001b[0m \u001b[38;5;28;01mfrom\u001b[39;00m \u001b[38;5;21;01m.\u001b[39;00m\u001b[38;5;21;01mutils\u001b[39;00m \u001b[38;5;28;01mimport\u001b[39;00m (\n\u001b[0;32m     32\u001b[0m     OptionalDependencyNotAvailable,\n\u001b[0;32m     33\u001b[0m     _LazyModule,\n\u001b[1;32m   (...)\u001b[0m\n\u001b[0;32m     44\u001b[0m     logging,\n\u001b[0;32m     45\u001b[0m )\n\u001b[0;32m     48\u001b[0m logger \u001b[38;5;241m=\u001b[39m logging\u001b[38;5;241m.\u001b[39mget_logger(\u001b[38;5;18m__name__\u001b[39m)  \u001b[38;5;66;03m# pylint: disable=invalid-name\u001b[39;00m\n",
      "File \u001b[1;32m~\\anaconda3\\lib\\site-packages\\transformers\\dependency_versions_check.py:41\u001b[0m, in \u001b[0;36m<module>\u001b[1;34m\u001b[0m\n\u001b[0;32m     38\u001b[0m         \u001b[38;5;28;01mif\u001b[39;00m \u001b[38;5;129;01mnot\u001b[39;00m is_tokenizers_available():\n\u001b[0;32m     39\u001b[0m             \u001b[38;5;28;01mcontinue\u001b[39;00m  \u001b[38;5;66;03m# not required, check version only if installed\u001b[39;00m\n\u001b[1;32m---> 41\u001b[0m     \u001b[43mrequire_version_core\u001b[49m\u001b[43m(\u001b[49m\u001b[43mdeps\u001b[49m\u001b[43m[\u001b[49m\u001b[43mpkg\u001b[49m\u001b[43m]\u001b[49m\u001b[43m)\u001b[49m\n\u001b[0;32m     42\u001b[0m \u001b[38;5;28;01melse\u001b[39;00m:\n\u001b[0;32m     43\u001b[0m     \u001b[38;5;28;01mraise\u001b[39;00m \u001b[38;5;167;01mValueError\u001b[39;00m(\u001b[38;5;124mf\u001b[39m\u001b[38;5;124m\"\u001b[39m\u001b[38;5;124mcan\u001b[39m\u001b[38;5;124m'\u001b[39m\u001b[38;5;124mt find \u001b[39m\u001b[38;5;132;01m{\u001b[39;00mpkg\u001b[38;5;132;01m}\u001b[39;00m\u001b[38;5;124m in \u001b[39m\u001b[38;5;132;01m{\u001b[39;00mdeps\u001b[38;5;241m.\u001b[39mkeys()\u001b[38;5;132;01m}\u001b[39;00m\u001b[38;5;124m, check dependency_versions_table.py\u001b[39m\u001b[38;5;124m\"\u001b[39m)\n",
      "File \u001b[1;32m~\\anaconda3\\lib\\site-packages\\transformers\\utils\\versions.py:123\u001b[0m, in \u001b[0;36mrequire_version_core\u001b[1;34m(requirement)\u001b[0m\n\u001b[0;32m    121\u001b[0m \u001b[38;5;124;03m\"\"\"require_version wrapper which emits a core-specific hint on failure\"\"\"\u001b[39;00m\n\u001b[0;32m    122\u001b[0m hint \u001b[38;5;241m=\u001b[39m \u001b[38;5;124m\"\u001b[39m\u001b[38;5;124mTry: pip install transformers -U or pip install -e \u001b[39m\u001b[38;5;124m'\u001b[39m\u001b[38;5;124m.[dev]\u001b[39m\u001b[38;5;124m'\u001b[39m\u001b[38;5;124m if you\u001b[39m\u001b[38;5;124m'\u001b[39m\u001b[38;5;124mre working with git main\u001b[39m\u001b[38;5;124m\"\u001b[39m\n\u001b[1;32m--> 123\u001b[0m \u001b[38;5;28;01mreturn\u001b[39;00m \u001b[43mrequire_version\u001b[49m\u001b[43m(\u001b[49m\u001b[43mrequirement\u001b[49m\u001b[43m,\u001b[49m\u001b[43m \u001b[49m\u001b[43mhint\u001b[49m\u001b[43m)\u001b[49m\n",
      "File \u001b[1;32m~\\anaconda3\\lib\\site-packages\\transformers\\utils\\versions.py:117\u001b[0m, in \u001b[0;36mrequire_version\u001b[1;34m(requirement, hint)\u001b[0m\n\u001b[0;32m    115\u001b[0m \u001b[38;5;28;01mif\u001b[39;00m want_ver \u001b[38;5;129;01mis\u001b[39;00m \u001b[38;5;129;01mnot\u001b[39;00m \u001b[38;5;28;01mNone\u001b[39;00m:\n\u001b[0;32m    116\u001b[0m     \u001b[38;5;28;01mfor\u001b[39;00m op, want_ver \u001b[38;5;129;01min\u001b[39;00m wanted\u001b[38;5;241m.\u001b[39mitems():\n\u001b[1;32m--> 117\u001b[0m         \u001b[43m_compare_versions\u001b[49m\u001b[43m(\u001b[49m\u001b[43mop\u001b[49m\u001b[43m,\u001b[49m\u001b[43m \u001b[49m\u001b[43mgot_ver\u001b[49m\u001b[43m,\u001b[49m\u001b[43m \u001b[49m\u001b[43mwant_ver\u001b[49m\u001b[43m,\u001b[49m\u001b[43m \u001b[49m\u001b[43mrequirement\u001b[49m\u001b[43m,\u001b[49m\u001b[43m \u001b[49m\u001b[43mpkg\u001b[49m\u001b[43m,\u001b[49m\u001b[43m \u001b[49m\u001b[43mhint\u001b[49m\u001b[43m)\u001b[49m\n",
      "File \u001b[1;32m~\\anaconda3\\lib\\site-packages\\transformers\\utils\\versions.py:50\u001b[0m, in \u001b[0;36m_compare_versions\u001b[1;34m(op, got_ver, want_ver, requirement, pkg, hint)\u001b[0m\n\u001b[0;32m     45\u001b[0m     \u001b[38;5;28;01mraise\u001b[39;00m \u001b[38;5;167;01mValueError\u001b[39;00m(\n\u001b[0;32m     46\u001b[0m         \u001b[38;5;124mf\u001b[39m\u001b[38;5;124m\"\u001b[39m\u001b[38;5;124mUnable to compare versions for \u001b[39m\u001b[38;5;132;01m{\u001b[39;00mrequirement\u001b[38;5;132;01m}\u001b[39;00m\u001b[38;5;124m: need=\u001b[39m\u001b[38;5;132;01m{\u001b[39;00mwant_ver\u001b[38;5;132;01m}\u001b[39;00m\u001b[38;5;124m found=\u001b[39m\u001b[38;5;132;01m{\u001b[39;00mgot_ver\u001b[38;5;132;01m}\u001b[39;00m\u001b[38;5;124m. This is unusual. Consider\u001b[39m\u001b[38;5;124m\"\u001b[39m\n\u001b[0;32m     47\u001b[0m         \u001b[38;5;124mf\u001b[39m\u001b[38;5;124m\"\u001b[39m\u001b[38;5;124m reinstalling \u001b[39m\u001b[38;5;132;01m{\u001b[39;00mpkg\u001b[38;5;132;01m}\u001b[39;00m\u001b[38;5;124m.\u001b[39m\u001b[38;5;124m\"\u001b[39m\n\u001b[0;32m     48\u001b[0m     )\n\u001b[0;32m     49\u001b[0m \u001b[38;5;28;01mif\u001b[39;00m \u001b[38;5;129;01mnot\u001b[39;00m ops[op](version\u001b[38;5;241m.\u001b[39mparse(got_ver), version\u001b[38;5;241m.\u001b[39mparse(want_ver)):\n\u001b[1;32m---> 50\u001b[0m     \u001b[38;5;28;01mraise\u001b[39;00m \u001b[38;5;167;01mImportError\u001b[39;00m(\n\u001b[0;32m     51\u001b[0m         \u001b[38;5;124mf\u001b[39m\u001b[38;5;124m\"\u001b[39m\u001b[38;5;132;01m{\u001b[39;00mrequirement\u001b[38;5;132;01m}\u001b[39;00m\u001b[38;5;124m is required for a normal functioning of this module, but found \u001b[39m\u001b[38;5;132;01m{\u001b[39;00mpkg\u001b[38;5;132;01m}\u001b[39;00m\u001b[38;5;124m==\u001b[39m\u001b[38;5;132;01m{\u001b[39;00mgot_ver\u001b[38;5;132;01m}\u001b[39;00m\u001b[38;5;124m.\u001b[39m\u001b[38;5;132;01m{\u001b[39;00mhint\u001b[38;5;132;01m}\u001b[39;00m\u001b[38;5;124m\"\u001b[39m\n\u001b[0;32m     52\u001b[0m     )\n",
      "\u001b[1;31mImportError\u001b[0m: tqdm>=4.27 is required for a normal functioning of this module, but found tqdm==4.18.0.\nTry: pip install transformers -U or pip install -e '.[dev]' if you're working with git main"
     ]
    }
   ],
   "source": [
    "from transformers import AutoTokenizer\n",
    "from transformers import AutoModelForSequenceClassification\n",
    "from scipy.special import softmax"
   ]
  },
  {
   "cell_type": "code",
   "execution_count": null,
   "id": "d6126ad2-ddfd-4be6-b764-7e91739ab513",
   "metadata": {},
   "outputs": [],
   "source": []
  },
  {
   "cell_type": "markdown",
   "id": "84d244a5-bd2e-4a46-90b5-6d43a58a5e53",
   "metadata": {},
   "source": [
    "# 5. Visualise"
   ]
  },
  {
   "cell_type": "code",
   "execution_count": null,
   "id": "dabfef60-8076-4c59-bce2-a312aff8adcc",
   "metadata": {},
   "outputs": [],
   "source": []
  }
 ],
 "metadata": {
  "kernelspec": {
   "display_name": "Python 3 (ipykernel)",
   "language": "python",
   "name": "python3"
  },
  "language_info": {
   "codemirror_mode": {
    "name": "ipython",
    "version": 3
   },
   "file_extension": ".py",
   "mimetype": "text/x-python",
   "name": "python",
   "nbconvert_exporter": "python",
   "pygments_lexer": "ipython3",
   "version": "3.8.13"
  },
  "widgets": {
   "application/vnd.jupyter.widget-state+json": {
    "state": {},
    "version_major": 2,
    "version_minor": 0
   }
  }
 },
 "nbformat": 4,
 "nbformat_minor": 5
}
